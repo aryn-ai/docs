{
 "cells": [
  {
   "cell_type": "markdown",
   "id": "db8e54ee-97dc-4e3b-af09-561488b02b9f",
   "metadata": {},
   "source": [
    "## Install the Aryn SDK\n",
    "Make sure the version is at least 0.2.1."
   ]
  },
  {
   "cell_type": "code",
   "execution_count": null,
   "id": "c67dfffd-ce01-4a4b-863c-00e72bbaad7a",
   "metadata": {},
   "outputs": [],
   "source": [
    "!pip install aryn-sdk"
   ]
  },
  {
   "cell_type": "markdown",
   "id": "fefa19e7-c7aa-4a51-a3d0-4de8c7621fd4",
   "metadata": {},
   "source": [
    "Place your Aryn API key in ${home}/.aryn/config.yaml in the following format.\n",
    "\n",
    "aryn_token: < your Aryn API key >"
   ]
  },
  {
   "cell_type": "markdown",
   "id": "240e8b56-833d-4992-bdc5-521fe6c4ed8f",
   "metadata": {},
   "source": [
    "## Set up the client"
   ]
  },
  {
   "cell_type": "code",
   "execution_count": 8,
   "id": "1172c6c2-3871-4d64-861b-6eb66e19a53c",
   "metadata": {},
   "outputs": [],
   "source": [
    "from aryn_sdk.client.client import Client\n",
    "\n",
    "# Instantiate a new client\n",
    "client = Client()"
   ]
  },
  {
   "cell_type": "code",
   "execution_count": 27,
   "id": "cb032cc4-e123-41a4-b7dc-b269e5796cf1",
   "metadata": {},
   "outputs": [],
   "source": [
    "from aryn_sdk.client.exceptions import ArynSDKException\n",
    "from aryn_sdk.client.client import Client\n",
    "from aryn_sdk.types.docset import DocSetMetadata, DocSetUpdate \n",
    "from aryn_sdk.types.document import DocumentMetadata, ReplaceOperation, FieldUpdates \n",
    "from aryn_sdk.types.schema import SchemaField, Schema \n",
    "from aryn_sdk.types.search import SearchRequest, SearchResponse"
   ]
  },
  {
   "cell_type": "code",
   "execution_count": 9,
   "id": "427c7709-f5fe-4acc-8183-dc149f6d44a5",
   "metadata": {},
   "outputs": [],
   "source": [
    "res = client.list_docsets()"
   ]
  },
  {
   "cell_type": "code",
   "execution_count": null,
   "id": "3699d6b1-e933-4050-b3f7-828626ab8cd0",
   "metadata": {},
   "outputs": [],
   "source": [
    "for page in res.iter_page():\n",
    "    for docset in page.value:\n",
    "        print(f\"{docset.docset_id}: {docset.name}\")\n",
    "\n",
    "# If this is your first time trying out Aryn, the output should be empty.\n",
    "# If you have been using DocParse to parse documents, you may see a DocSet called \"docparse_storage\""
   ]
  },
  {
   "cell_type": "code",
   "execution_count": 12,
   "id": "d9634a5a-633f-4635-a4d8-256e64850316",
   "metadata": {},
   "outputs": [],
   "source": [
    "# If you have a DocSet, try listing documents that belong to that DocSet\n",
    "default_docset_id = \"\"\n",
    "docs = client.list_docs(docset_id=default_docset_id)"
   ]
  },
  {
   "cell_type": "code",
   "execution_count": null,
   "id": "3443b1d0-153a-48bb-a009-db38d0cc7e69",
   "metadata": {},
   "outputs": [],
   "source": [
    "for page in docs.iter_page():\n",
    "    for doc in page.value:\n",
    "        print(f\"{doc.doc_id}: {doc.name}\")\n",
    "\n",
    "doc1_id = \"\""
   ]
  },
  {
   "cell_type": "code",
   "execution_count": 133,
   "id": "d4d6490d-ec43-4a4a-9f73-8faab3cb7305",
   "metadata": {},
   "outputs": [],
   "source": [
    "# Pick a document and inspect what's in it.\n",
    "doc1 = client.get_doc(docset_id=default_docset_id, doc_id=doc1_id)"
   ]
  },
  {
   "cell_type": "code",
   "execution_count": null,
   "id": "6588f468-30c9-4371-9adf-d7ccf700d337",
   "metadata": {},
   "outputs": [],
   "source": [
    "print(doc1.value.model_dump())\n",
    "\n",
    "# Jupyter might complain about data rate being exceeded.  If that happens, just have a peek.\n",
    "print(str(doc1.value.model_dump())[0:1000])"
   ]
  },
  {
   "cell_type": "markdown",
   "id": "e6dbeaf7-4311-445c-a20c-9f56ae598bc8",
   "metadata": {},
   "source": [
    "## Add a new document to DocParse Storage using DocParse"
   ]
  },
  {
   "cell_type": "code",
   "execution_count": null,
   "id": "a42a9863-487c-4982-a6ac-e066332f3b29",
   "metadata": {},
   "outputs": [],
   "source": [
    "from aryn_sdk.partition import partition_file\n",
    "\n",
    "# If you already have some file sitting on your computer that you want to add to storage.\n",
    "local_path = \"\"\n",
    "partition_file(file=local_path)"
   ]
  },
  {
   "cell_type": "code",
   "execution_count": 115,
   "id": "7b178849-69ce-4a50-ac8c-e15124738a5c",
   "metadata": {},
   "outputs": [],
   "source": [
    "# Or you can download some sample PDFs from our public S3 bucket.\n",
    "import boto3\n",
    "\n",
    "session = boto3.Session()\n",
    "s3_client = session.client(\"s3\")\n",
    "local_path = \"\"\n",
    "s3_client.download_file(\"aryn-public\", \"ntsb/0.pdf\", local_path)\n",
    "\n",
    "# Download and parse several NTSB documents\n",
    "partition_file(file=local_path)"
   ]
  },
  {
   "cell_type": "markdown",
   "id": "7017aad6-b9c2-4af8-a8e7-cb0249b6507b",
   "metadata": {},
   "source": [
    "## Try out the Search API\n",
    "\n",
    "API documentation: https://docs.aryn.ai/docparse/storage#searching-stored-documents"
   ]
  },
  {
   "cell_type": "code",
   "execution_count": 140,
   "id": "816135c5-d349-45cb-ab88-fd169645087f",
   "metadata": {},
   "outputs": [],
   "source": [
    "query = SearchRequest(query=\"ntsb\", query_type=\"vector\", return_type=\"element\")\n",
    "\n",
    "res = client.search(docset_id=default_docset_id, query=query)"
   ]
  },
  {
   "cell_type": "code",
   "execution_count": null,
   "id": "ecaccbd6-fa2e-4fe9-ac94-5190400aeefd",
   "metadata": {},
   "outputs": [],
   "source": [
    "for doc in res.value.results[0:10]:\n",
    "    if \"_original_element\" in doc[\"properties\"]:\n",
    "        doc['properties'].pop('_original_elements')\n",
    "    print(f\"{doc['doc_id']}: {doc['properties']['entity']}: {doc['text_representation']}\")"
   ]
  },
  {
   "cell_type": "code",
   "execution_count": 143,
   "id": "1e705ce9-c1ed-41e8-8f9e-45ad3f8e13fb",
   "metadata": {},
   "outputs": [],
   "source": [
    "query = SearchRequest(query=\"accident\", properties_filter='(properties.entity.title like \"report\")')\n",
    "\n",
    "res = client.search(docset_id=default_docset_id, query=query)"
   ]
  },
  {
   "cell_type": "code",
   "execution_count": null,
   "id": "70d6dac5-7ecf-4b6d-8197-97edc4c327be",
   "metadata": {},
   "outputs": [],
   "source": [
    "for doc in res.value.results[0:10]:\n",
    "    if \"_original_element\" in doc[\"properties\"]:\n",
    "        doc['properties'].pop('_original_elements')\n",
    "    print(f\"{doc['doc_id']}: {doc['properties']['entity']}: {doc['text_representation']}\")"
   ]
  },
  {
   "cell_type": "markdown",
   "id": "1c2e6b8e-8988-4c86-90e4-a40b76865397",
   "metadata": {},
   "source": [
    "## Extract properties\n",
    "\n",
    "Try extracting properties from the documents you have ingested and perform searches using extracted properties as filters."
   ]
  },
  {
   "cell_type": "code",
   "execution_count": 29,
   "id": "b82f058a-04b9-4299-bedb-95b953a58789",
   "metadata": {},
   "outputs": [],
   "source": [
    "default_docset_id = \"\"\n",
    "\n",
    "field = SchemaField(name=\"title\", field_type=\"string\", description=\"title of the document\")\n",
    "schema = Schema(fields=[field])\n",
    "\n",
    "res = client.extract_properties(docset_id=default_docset_id, schema=schema)"
   ]
  },
  {
   "cell_type": "code",
   "execution_count": null,
   "id": "8864cf86-d7c0-42c3-9acb-e33736d646d6",
   "metadata": {},
   "outputs": [],
   "source": [
    "for doc in res.value.results[0:10]:\n",
    "    print(f\"{doc['doc_id']}: {doc['properties']}\")"
   ]
  },
  {
   "cell_type": "code",
   "execution_count": 129,
   "id": "cca28b37-c523-4b06-928e-1f390f2b8875",
   "metadata": {},
   "outputs": [],
   "source": [
    "field = SchemaField(name=\"aircraft_type\", field_type=\"string\", description=\"Aircraft type\")\n",
    "schema = Schema(fields=[field])\n",
    "\n",
    "res = client.extract_properties(docset_id=default_docset_id, schema=schema)"
   ]
  },
  {
   "cell_type": "code",
   "execution_count": 31,
   "id": "62093825-a366-4925-a066-fac1bacaf5ee",
   "metadata": {},
   "outputs": [
    {
     "name": "stdout",
     "output_type": "stream",
     "text": [
      "exit_status=0\n"
     ]
    }
   ],
   "source": [
    "# Make sure you get 'exit_status' of 0 (success).\n",
    "print(res.value)"
   ]
  },
  {
   "cell_type": "code",
   "execution_count": 148,
   "id": "4e46d364-c0ba-41a3-b340-bf02da938011",
   "metadata": {},
   "outputs": [],
   "source": [
    "query = SearchRequest(query=\"accident\", properties_filter='(properties.entity.aircraft_type like \"VAN\\'S\")')\n",
    "\n",
    "res = client.search(docset_id=default_docset_id, query=query)"
   ]
  },
  {
   "cell_type": "code",
   "execution_count": null,
   "id": "9526eefd-48bb-4578-ba0b-f1be7202bec6",
   "metadata": {},
   "outputs": [],
   "source": [
    "for doc in res.value.results[0:10]:\n",
    "    if \"_original_element\" in doc[\"properties\"]:\n",
    "        doc['properties'].pop('_original_elements')\n",
    "    print(f\"{doc['doc_id']}: {doc['properties']['entity']}: {doc['text_representation']}\")"
   ]
  }
 ],
 "metadata": {
  "kernelspec": {
   "display_name": "Python 3 (ipykernel)",
   "language": "python",
   "name": "python3"
  },
  "language_info": {
   "codemirror_mode": {
    "name": "ipython",
    "version": 3
   },
   "file_extension": ".py",
   "mimetype": "text/x-python",
   "name": "python",
   "nbconvert_exporter": "python",
   "pygments_lexer": "ipython3",
   "version": "3.11.5"
  }
 },
 "nbformat": 4,
 "nbformat_minor": 5
}
